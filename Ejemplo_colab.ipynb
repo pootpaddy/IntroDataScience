{
  "nbformat": 4,
  "nbformat_minor": 0,
  "metadata": {
    "colab": {
      "name": "Ejemplo_colab.ipynb",
      "provenance": [],
      "collapsed_sections": [],
      "authorship_tag": "ABX9TyPSx6zGwlwUM4dvfqmCkRmU",
      "include_colab_link": true
    },
    "kernelspec": {
      "name": "python3",
      "display_name": "Python 3"
    }
  },
  "cells": [
    {
      "cell_type": "markdown",
      "metadata": {
        "id": "view-in-github",
        "colab_type": "text"
      },
      "source": [
        "<a href=\"https://colab.research.google.com/github/pootpaddy/IntroDataScience/blob/main/Ejemplo_colab.ipynb\" target=\"_parent\"><img src=\"https://colab.research.google.com/assets/colab-badge.svg\" alt=\"Open In Colab\"/></a>"
      ]
    },
    {
      "cell_type": "code",
      "metadata": {
        "colab": {
          "base_uri": "https://localhost:8080/"
        },
        "id": "taEKm8CSrrnA",
        "outputId": "a9081a43-c102-48ac-dd89-0f627b43d4a5"
      },
      "source": [
        "# Libreria para cargar nuestro drive\r\n",
        "from google.colab import drive\r\n",
        "# Cargamos nuestro drive en nuestro notebook\r\n",
        "drive.mount('/content/drive')"
      ],
      "execution_count": null,
      "outputs": [
        {
          "output_type": "stream",
          "text": [
            "Mounted at /content/drive\n"
          ],
          "name": "stdout"
        }
      ]
    },
    {
      "cell_type": "code",
      "metadata": {
        "colab": {
          "base_uri": "https://localhost:8080/"
        },
        "id": "4Un2wCW5r19B",
        "outputId": "7e3c65c0-02db-48c6-b155-efa045de4625"
      },
      "source": [
        "!ls \"/content/drive/My Drive/Tutoriales/Plataformas\""
      ],
      "execution_count": null,
      "outputs": [
        {
          "output_type": "stream",
          "text": [
            "datos  Ejemplo_colab.ipynb  figuras\n"
          ],
          "name": "stdout"
        }
      ]
    },
    {
      "cell_type": "markdown",
      "metadata": {
        "id": "sWEa0BXktiLn"
      },
      "source": [
        "# Ejemplo de notebook Jupyter\r\n",
        "\r\n",
        "\r\n",
        "\r\n",
        "\r\n",
        "\r\n"
      ]
    },
    {
      "cell_type": "markdown",
      "metadata": {
        "id": "VegUSnOOt2yi"
      },
      "source": [
        "## 1. Cargar los datos\r\n"
      ]
    },
    {
      "cell_type": "code",
      "metadata": {
        "id": "0P5KOVJCuQu0"
      },
      "source": [
        "# Cargar las biblioteca Pandas con el alias 'pd’\r\n",
        "# Cargar las biblioteca Matplotlib con el alias ‘plt’\r\n",
        "import matplotlib.pyplot as plt\r\n",
        "import pandas as pd"
      ],
      "execution_count": null,
      "outputs": []
    },
    {
      "cell_type": "markdown",
      "metadata": {
        "id": "mghNPC7uuC4j"
      },
      "source": [
        "En este notebook se utilizará la gráfica de la cronología de los  Casos por COVID-19 en México del 29 de diciembre de 2020 al 12 de enero de 2021.  \r\n",
        "*Fuente:* https://politica.expansion.mx/mexico/2021/01/12/covid-19-mexico-confirma-1-314-muertes-en-un-dia-nuevo-maximo-en-la-pandemia\r\n",
        "\r\n",
        "![Imagen](https://docs.google.com/uc?export=download&id=1vLfioNV68pKnSzTPPNBOl6MewdwI7c3d)"
      ]
    },
    {
      "cell_type": "code",
      "metadata": {
        "id": "bRIG0zdjvExl"
      },
      "source": [
        "# Leer datos del archivo datos.csv\r\n",
        "data = pd.read_csv (\"/content/drive/My Drive/Tutoriales/Plataformas/datos/datos.csv\")"
      ],
      "execution_count": null,
      "outputs": []
    },
    {
      "cell_type": "code",
      "metadata": {
        "colab": {
          "base_uri": "https://localhost:8080/",
          "height": 195
        },
        "id": "XtyIi9S-vKJY",
        "outputId": "2919e707-4bb6-4079-db50-e153853537d2"
      },
      "source": [
        "# Vista previa de las primeras 5 líneas de los datos cargados\r\n",
        "data.head ()"
      ],
      "execution_count": null,
      "outputs": [
        {
          "output_type": "execute_result",
          "data": {
            "text/html": [
              "<div>\n",
              "<style scoped>\n",
              "    .dataframe tbody tr th:only-of-type {\n",
              "        vertical-align: middle;\n",
              "    }\n",
              "\n",
              "    .dataframe tbody tr th {\n",
              "        vertical-align: top;\n",
              "    }\n",
              "\n",
              "    .dataframe thead th {\n",
              "        text-align: right;\n",
              "    }\n",
              "</style>\n",
              "<table border=\"1\" class=\"dataframe\">\n",
              "  <thead>\n",
              "    <tr style=\"text-align: right;\">\n",
              "      <th></th>\n",
              "      <th>fecha</th>\n",
              "      <th>casos</th>\n",
              "    </tr>\n",
              "  </thead>\n",
              "  <tbody>\n",
              "    <tr>\n",
              "      <th>0</th>\n",
              "      <td>29-dic</td>\n",
              "      <td>12099.0</td>\n",
              "    </tr>\n",
              "    <tr>\n",
              "      <th>1</th>\n",
              "      <td>30-dic</td>\n",
              "      <td>12406.0</td>\n",
              "    </tr>\n",
              "    <tr>\n",
              "      <th>2</th>\n",
              "      <td>31-dic</td>\n",
              "      <td>12159.0</td>\n",
              "    </tr>\n",
              "    <tr>\n",
              "      <th>3</th>\n",
              "      <td>02-ene</td>\n",
              "      <td>6360.0</td>\n",
              "    </tr>\n",
              "    <tr>\n",
              "      <th>4</th>\n",
              "      <td>03-ene</td>\n",
              "      <td>5211.0</td>\n",
              "    </tr>\n",
              "  </tbody>\n",
              "</table>\n",
              "</div>"
            ],
            "text/plain": [
              "    fecha    casos\n",
              "0  29-dic  12099.0\n",
              "1  30-dic  12406.0\n",
              "2  31-dic  12159.0\n",
              "3  02-ene   6360.0\n",
              "4  03-ene   5211.0"
            ]
          },
          "metadata": {
            "tags": []
          },
          "execution_count": 8
        }
      ]
    },
    {
      "cell_type": "markdown",
      "metadata": {
        "id": "72dAJSWKt0OF"
      },
      "source": [
        "## 2. Graficar los datos"
      ]
    },
    {
      "cell_type": "code",
      "metadata": {
        "colab": {
          "base_uri": "https://localhost:8080/",
          "height": 279
        },
        "id": "sv7DjcT0vS8M",
        "outputId": "07a99c0d-e95d-4b7d-ea82-7bbf3ffe6c8b"
      },
      "source": [
        "#Graficamos las variables\r\n",
        "data.plot(x ='fecha', y='casos', kind = 'line')\r\n",
        "plt.show()"
      ],
      "execution_count": null,
      "outputs": [
        {
          "output_type": "display_data",
          "data": {
            "image/png": "[encoded data removed]",
            "text/plain": [
              "<Figure size 432x288 with 1 Axes>"
            ]
          },
          "metadata": {
            "tags": [],
            "needs_background": "light"
          }
        }
      ]
    },
    {
      "cell_type": "code",
      "metadata": {
        "id": "X7WE-QgmvVMw"
      },
      "source": [
        ""
      ],
      "execution_count": null,
      "outputs": []
    }
  ]
}