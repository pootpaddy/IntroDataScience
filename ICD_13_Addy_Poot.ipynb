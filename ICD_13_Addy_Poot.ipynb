{
  "nbformat": 4,
  "nbformat_minor": 0,
  "metadata": {
    "kernelspec": {
      "display_name": "Python 3",
      "language": "python",
      "name": "python3"
    },
    "language_info": {
      "codemirror_mode": {
        "name": "ipython",
        "version": 3
      },
      "file_extension": ".py",
      "mimetype": "text/x-python",
      "name": "python",
      "nbconvert_exporter": "python",
      "pygments_lexer": "ipython3",
      "version": "3.6.2"
    },
    "colab": {
      "name": "ICD_13_Addy_Poot.ipynb",
      "provenance": [],
      "collapsed_sections": [],
      "toc_visible": true,
      "include_colab_link": true
    }
  },
  "cells": [
    {
      "cell_type": "markdown",
      "metadata": {
        "id": "view-in-github",
        "colab_type": "text"
      },
      "source": [
        "<a href=\"https://colab.research.google.com/github/pootpaddy/IntroDataScience/blob/main/ICD_13_Addy_Poot.ipynb\" target=\"_parent\"><img src=\"https://colab.research.google.com/assets/colab-badge.svg\" alt=\"Open In Colab\"/></a>"
      ]
    },
    {
      "cell_type": "markdown",
      "metadata": {
        "id": "CpWRn_XaHqkP"
      },
      "source": [
        "<!--Información del curso-->\n",
        "<img align=\"left\" style=\"padding-right:10px;\" src=\"figuras/banner_icd.png\">"
      ]
    },
    {
      "cell_type": "markdown",
      "metadata": {
        "id": "p6xhCUoWHqkV"
      },
      "source": [
        "<center><h1 style=\"font-size:2em;color:#2467C0\">  COVID-MEXICO 19-abril-2020  </h1></center>\n",
        "<br>\n",
        "<table>\n",
        "<col width=\"550\">\n",
        "<col width=\"450\">\n",
        "<tr>\n",
        "<td><img src=\"figuras/covid_mexico.png\" align=\"middle\" style=\"width:500\"/></td>\n",
        "<td>\n",
        "    \n",
        "A la fecha del 19 de abril del 2020 la República Mexicana contaba con 8 mil 261 contagios y 686 muertes a causa del COVID-19 de acuerdo con el informe de la Secretaría de Salud.\n",
        "    \n",
        "</td>\n",
        "</tr>\n",
        "</table>"
      ]
    },
    {
      "cell_type": "markdown",
      "metadata": {
        "id": "6upgNv38HqkW"
      },
      "source": [
        "<div class=\"alert alert-success\">\n",
        "    \n",
        "**Ejericicio**\n",
        "    \n",
        "Completar la notebook utilizando los videos del siguiente link:\n",
        "    \n",
        "</div>\n",
        "\n",
        "\n",
        "```html\n",
        "\n",
        "https://www.youtube.com/playlist?list=PLP1pGkh-tN1DNtp-Hm-P7YmQaxVREWUHj\n",
        "\n",
        "```"
      ]
    },
    {
      "cell_type": "markdown",
      "metadata": {
        "id": "SmR_k4q8HqkW"
      },
      "source": [
        "# Pacientes, pacientes positivos, sospechosos y negativos"
      ]
    },
    {
      "cell_type": "code",
      "metadata": {
        "colab": {
          "base_uri": "https://localhost:8080/"
        },
        "id": "_50F0lN8HqkW",
        "outputId": "b12016ec-6411-4869-99e1-547d0949b40b"
      },
      "source": [
        "import csv\n",
        "\n",
        "file = '/content/sample_data/200419COVID19MEXICO.csv'\n",
        "num_pacientes=0\n",
        "num_positivos=0\n",
        "num_negativos=0\n",
        "num_sospechosos=0\n",
        "\n",
        "with open(file,'r',encoding ='utf-8') as csv_file:\n",
        "    lector=csv.reader(csv_file)\n",
        "    next(lector)\n",
        "    for linea in lector :\n",
        "        num_pacientes = num_pacientes+1\n",
        "        if int(linea[30]) == 1:\n",
        "            num_positivos = num_positivos+1\n",
        "        elif int(linea[30])==2:\n",
        "            num_negativos = num_negativos+1\n",
        "        elif int (linea[30]) == 3:\n",
        "            num_sospechosos=num_sospechosos+1\n",
        "print ('pacientes:',num_pacientes)\n",
        "print ('positivos:',num_positivos)\n",
        "print ('sospechosos:',num_sospechosos)\n",
        "print ('negativos:',num_negativos)\n"
      ],
      "execution_count": null,
      "outputs": [
        {
          "output_type": "stream",
          "text": [
            "pacientes: 49570\n",
            "positivos: 8261\n",
            "sospechosos: 10139\n",
            "negativos: 31170\n"
          ],
          "name": "stdout"
        }
      ]
    },
    {
      "cell_type": "code",
      "metadata": {
        "id": "fdNxnAzcIFoj"
      },
      "source": [
        ""
      ],
      "execution_count": null,
      "outputs": []
    },
    {
      "cell_type": "markdown",
      "metadata": {
        "id": "MLsq3K0eHqkX"
      },
      "source": [
        "# Defunciones"
      ]
    },
    {
      "cell_type": "markdown",
      "metadata": {
        "id": "eIK1TYf6IEhW"
      },
      "source": [
        "import csv\n",
        "import matplotlib.pyplot as plt\n",
        "\n",
        "file = '200419COVID19MEXICO.csv'\n",
        "num_defunciones=0\n",
        "\n",
        "with open(file,'r',encoding ='utf-8') as csv_file:\n",
        "    lector=csv.reader(csv_file)\n",
        "    next(lector)\n",
        "    print(lector)\n",
        "    for linea in lector :\n",
        "        #print (linea[12])\n",
        "        if linea[12] != '9999-99-99' and int (linea[30]) == 1 :\n",
        "            num_defunciones=num_defunciones+1\n",
        "print('defunciones', num_defunciones)\n"
      ]
    },
    {
      "cell_type": "code",
      "metadata": {
        "id": "G1tklHTxHqkY",
        "colab": {
          "base_uri": "https://localhost:8080/"
        },
        "outputId": "e65888b8-ad94-40eb-ba87-d844d688d218"
      },
      "source": [
        "import csv\n",
        "import matplotlib.pyplot as plt\n",
        "\n",
        "file = '/content/sample_data/200419COVID19MEXICO.csv'\n",
        "num_defunciones=0\n",
        "\n",
        "with open(file,'r',encoding ='utf-8') as csv_file:\n",
        "    lector=csv.reader(csv_file)\n",
        "    next(lector)\n",
        "    print(lector)\n",
        "    for linea in lector :\n",
        "        #print (linea[12])\n",
        "        if linea[12] != '9999-99-99' and int (linea[30]) == 1 :\n",
        "            num_defunciones=num_defunciones+1\n",
        "print('defunciones', num_defunciones)\n"
      ],
      "execution_count": null,
      "outputs": [
        {
          "output_type": "stream",
          "text": [
            "<_csv.reader object at 0x7fbae22c7dd0>\n",
            "defunciones 686\n"
          ],
          "name": "stdout"
        }
      ]
    },
    {
      "cell_type": "markdown",
      "metadata": {
        "id": "Apz2M6MjHqkY"
      },
      "source": [
        "# Información de estados"
      ]
    },
    {
      "cell_type": "code",
      "metadata": {
        "id": "KEzxFQ3xHqkY",
        "colab": {
          "base_uri": "https://localhost:8080/",
          "height": 352
        },
        "outputId": "1a5786fb-97a6-4eed-8aeb-20edc342c26d"
      },
      "source": [
        "import csv\n",
        "import matplotlib.pyplot as plt\n",
        "\n",
        "file = '/content/sample_data/200419COVID19MEXICO.csv'\n",
        "\n",
        "estados={}\n",
        "\n",
        "with open(file,'r',encoding ='utf-8') as csv_file:\n",
        "    lector=csv.reader(csv_file)\n",
        "    next(lector)\n",
        "    print(lector)\n",
        "    for linea in lector :\n",
        "        if int(linea[30]) == 1:\n",
        "            estados[ linea[7] ] = estados.get ( linea[7] , 0) + 1\n",
        "            \n",
        "estadosM500={}\n",
        "for estado, casos in estados.items():\n",
        "    if casos>500 :\n",
        "        estadosM500[estado]=casos\n",
        "\n",
        "print(estados)\n",
        "print (\"-----\")\n",
        "print (estadosM500)\n",
        "\n",
        "plt.bar( estados.keys() , estados.values() )\n",
        "plt.show()\n"
      ],
      "execution_count": null,
      "outputs": [
        {
          "output_type": "stream",
          "text": [
            "<_csv.reader object at 0x7fbae22fde50>\n",
            "{'15': 1207, '28': 128, '09': 2232, '31': 180, '12': 124, '19': 174, '30': 161, '21': 351, '27': 341, '22': 81, '14': 197, '02': 679, '01': 81, '13': 93, '03': 193, '18': 39, '25': 457, '05': 243, '08': 146, '26': 121, '23': 325, '24': 62, '29': 71, '20': 64, '11': 134, '07': 70, '10': 22, '16': 116, '17': 91, '32': 28, '04': 38, '06': 12}\n",
            "-----\n",
            "{'15': 1207, '09': 2232, '02': 679}\n"
          ],
          "name": "stdout"
        },
        {
          "output_type": "display_data",
          "data": {
            "image/png": "[encoded data removed]",
            "text/plain": [
              "<Figure size 432x288 with 1 Axes>"
            ]
          },
          "metadata": {
            "tags": [],
            "needs_background": "light"
          }
        }
      ]
    },
    {
      "cell_type": "markdown",
      "metadata": {
        "id": "V8ZtPHHTHqkY"
      },
      "source": [
        "# Total de hombres y mujeres"
      ]
    },
    {
      "cell_type": "code",
      "metadata": {
        "id": "eUhqmCR8HqkZ",
        "colab": {
          "base_uri": "https://localhost:8080/"
        },
        "outputId": "a661b7a9-ecf6-4903-e5d8-d195db1eccdf"
      },
      "source": [
        "import csv\n",
        "\n",
        "file = '/content/sample_data/200419COVID19MEXICO.csv'\n",
        "\n",
        "mujeres = 0\n",
        "hombres = 0\n",
        "\n",
        "with open(file,'r',encoding ='utf-8') as csv_file:\n",
        "    lector=csv.reader(csv_file)\n",
        "    next(lector)\n",
        "    print(lector)\n",
        "    for linea in lector :\n",
        "        if int(linea [30]) == 1:\n",
        "            if int(linea[5]) == 1:\n",
        "                mujeres = mujeres+1\n",
        "            elif int (linea[5]) == 2:\n",
        "                hombres = hombres+1\n",
        "print('hombres', hombres)\n",
        "print('mujeres', mujeres)                \n"
      ],
      "execution_count": null,
      "outputs": [
        {
          "output_type": "stream",
          "text": [
            "<_csv.reader object at 0x7fbae5dbb950>\n",
            "hombres 4789\n",
            "mujeres 3472\n"
          ],
          "name": "stdout"
        }
      ]
    },
    {
      "cell_type": "markdown",
      "metadata": {
        "id": "RYp4EIy_HqkZ"
      },
      "source": [
        "# Distribución por edades"
      ]
    },
    {
      "cell_type": "code",
      "metadata": {
        "id": "1bdRp-zzHqkZ",
        "colab": {
          "base_uri": "https://localhost:8080/",
          "height": 282
        },
        "outputId": "fbb88283-4a63-4f9f-dc6f-ef12183d3e3f"
      },
      "source": [
        "import csv\n",
        "import matplotlib.pyplot as plt\n",
        "\n",
        "file = '/content/sample_data/200419COVID19MEXICO.csv'\n",
        "\n",
        "edades =[]\n",
        "\n",
        "with open(file,'r',encoding ='utf-8') as csv_file:\n",
        "    lector=csv.reader(csv_file)\n",
        "    next(lector)\n",
        "    print(lector)\n",
        "    for linea in lector :\n",
        "        if int(linea [30])==1:\n",
        "            edades.append (int (linea [15]) )\n",
        "            \n",
        "plt.hist(edades, 100)\n",
        "plt.show()\n"
      ],
      "execution_count": null,
      "outputs": [
        {
          "output_type": "stream",
          "text": [
            "<_csv.reader object at 0x7fbae22c7950>\n"
          ],
          "name": "stdout"
        },
        {
          "output_type": "display_data",
          "data": {
            "image/png": "[encoded data removed]",
            "text/plain": [
              "<Figure size 432x288 with 1 Axes>"
            ]
          },
          "metadata": {
            "tags": [],
            "needs_background": "light"
          }
        }
      ]
    }
  ]
}